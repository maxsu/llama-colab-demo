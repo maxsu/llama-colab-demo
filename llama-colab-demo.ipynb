{
  "nbformat": 4,
  "nbformat_minor": 0,
  "metadata": {
    "colab": {
      "provenance": [],
      "authorship_tag": "ABX9TyNIcNK2Lhpb7i1MFQD0ZUld",
      "include_colab_link": true
    },
    "kernelspec": {
      "name": "python3",
      "display_name": "Python 3"
    },
    "language_info": {
      "name": "python"
    }
  },
  "cells": [
    {
      "cell_type": "markdown",
      "metadata": {
        "id": "view-in-github",
        "colab_type": "text"
      },
      "source": [
        "<a href=\"https://colab.research.google.com/github/maxsu/llama-colab-demo/blob/main/llama_colab_demo.ipynb\" target=\"_parent\"><img src=\"https://colab.research.google.com/assets/colab-badge.svg\" alt=\"Open In Colab\"/></a>"
      ]
    },
    {
      "cell_type": "code",
      "source": [
        "#@title Setup Script\n",
        "\n",
        "import os\n",
        "\n",
        "# Set download url\n",
        "os.environ['URL'] = \"\" #@param {type:\"string\"}\n",
        "!echo \"Will download from $URL\"\n",
        "\n",
        "# clone into project\n",
        "!git clone https://github.com/facebookresearch/llama\n",
        "%cd /content/llama\n",
        "\n",
        "# install depends\n",
        "!pip install -r requirements.txt\n",
        "\n",
        "# install llama\n",
        "!pip install -e .\n",
        "\n",
        "# Inject URL into download.sh\n",
        "!sed -i \"4c PRESIGNED_URL='$URL'\" download.sh\n",
        "!sed -i '13c echo \"Downloading from $PRESIGNED_URL\"' download.sh\n",
        "\n",
        "# Grab models\n",
        "!chmod +x download.sh\n",
        "!./download.sh"
      ],
      "metadata": {
        "id": "AtdpJQaerkx6"
      },
      "execution_count": null,
      "outputs": []
    },
    {
      "cell_type": "code",
      "execution_count": null,
      "metadata": {
        "id": "7QZRV-v2qigh"
      },
      "outputs": [],
      "source": [
        "#@title Example.py\n",
        "\n",
        "import os\n",
        "\n",
        "# Choose model\n",
        "os.environ['MODEL'] = \"7B\" #@param [\"7B\", \"13B\", \"30B\"]\n",
        "\n",
        "%cd /content/llama\n",
        "\n",
        "# Run example \n",
        "!torchrun example.py \\\n",
        "  --nproc_per_node 1 \\\n",
        "  --ckpt_dir $MODEL  \\\n",
        "  --tokenizer_path tokenizer.model"
      ]
    }
  ]
}
