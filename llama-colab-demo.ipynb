{
  "cells": [
    {
      "cell_type": "code",
      "execution_count": null,
      "metadata": {
        "colab": {
          "base_uri": "https://localhost:8080/"
        },
        "id": "AtdpJQaerkx6",
        "outputId": "4aa1678c-c25a-43e4-a55b-6aaabbef1688"
      },
      "outputs": [],
      "source": [
        "#@title Setup Script\n",
        "\n",
        "import os\n",
        "\n",
        "# Set download url\n",
        "os.environ['URL'] = \"\" #@param {type:\"string\"}\n",
        "!echo \"Will download from $URL\"\n",
        "\n",
        "# clone into project\n",
        "!git clone https://github.com/facebookresearch/llama\n",
        "%cd /content/llama\n",
        "\n",
        "# install depends\n",
        "!pip install -r requirements.txt\n",
        "\n",
        "# install llama\n",
        "!pip install -e .\n",
        "\n",
        "# Inject URL into download.sh\n",
        "!sed -i \"4c PRESIGNED_URL='$URL'\" download.sh\n",
        "!sed -i '13c echo \"Downloading from $PRESIGNED_URL\"' download.sh\n",
        "\n",
        "# Grab models\n",
        "!chmod +x download.sh\n",
        "!./download.sh"
      ]
    },
    {
      "cell_type": "code",
      "execution_count": null,
      "metadata": {
        "id": "7QZRV-v2qigh"
      },
      "outputs": [],
      "source": [
        "#@title Example.py\n",
        "\n",
        "# Choose model\n",
        "MODEL = \"7B\" #@param [\"7B\", \"13B\", \"30B\"]\n",
        "\n",
        " %cd /content/llama\n",
        "\n",
        "# Run example \n",
        "!torchrun example.py \\ \n",
        "  --nproc_per_node 1 \\\n",
        "  --ckpt_dir $MODEL  \\\n",
        "  --tokenizer_path tokenizer.model"
      ]
    }
  ],
  "metadata": {
    "colab": {
      "provenance": []
    },
    "kernelspec": {
      "display_name": "Python 3",
      "name": "python3"
    },
    "language_info": {
      "name": "python"
    }
  },
  "nbformat": 4,
  "nbformat_minor": 0
}
